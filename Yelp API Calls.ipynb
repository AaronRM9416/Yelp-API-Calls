{
 "cells": [
  {
   "cell_type": "markdown",
   "id": "b08b0283",
   "metadata": {},
   "source": [
    "# Yelp API Calls\n",
    "\n",
    "Aaron Musselwhite 10/19/22"
   ]
  },
  {
   "cell_type": "code",
   "execution_count": 10,
   "id": "10e87730",
   "metadata": {},
   "outputs": [],
   "source": [
    "# Standard Imports\n",
    "import numpy as np\n",
    "import pandas as pd\n",
    "import matplotlib.pyplot as plt\n",
    "import seaborn as sns\n",
    "# Additional Imports\n",
    "import os, json, math, time\n",
    "from yelpapi import YelpAPI\n",
    "from tqdm.notebook import tqdm_notebook"
   ]
  },
  {
   "cell_type": "code",
   "execution_count": 21,
   "id": "5477d86c",
   "metadata": {},
   "outputs": [
    {
     "name": "stdout",
     "output_type": "stream",
     "text": [
      "Collecting tqdm\n",
      "  Downloading tqdm-4.64.1-py2.py3-none-any.whl (78 kB)\n",
      "     ---------------------------------------- 78.5/78.5 kB 2.2 MB/s eta 0:00:00\n",
      "Collecting colorama\n",
      "  Downloading colorama-0.4.5-py2.py3-none-any.whl (16 kB)\n",
      "Installing collected packages: colorama, tqdm\n",
      "Successfully installed colorama-0.4.5 tqdm-4.64.1\n"
     ]
    },
    {
     "name": "stderr",
     "output_type": "stream",
     "text": [
      "  WARNING: The script tqdm.exe is installed in 'C:\\Users\\Aaron\\AppData\\Local\\Packages\\PythonSoftwareFoundation.Python.3.11_qbz5n2kfra8p0\\LocalCache\\local-packages\\Python311\\Scripts' which is not on PATH.\n",
      "  Consider adding this directory to PATH or, if you prefer to suppress this warning, use --no-warn-script-location.\n",
      "\n",
      "[notice] A new release of pip available: 22.2.2 -> 22.3\n",
      "[notice] To update, run: C:\\Users\\Aaron\\AppData\\Local\\Microsoft\\WindowsApps\\PythonSoftwareFoundation.Python.3.11_qbz5n2kfra8p0\\python.exe -m pip install --upgrade pip\n"
     ]
    }
   ],
   "source": [
    "!pip install tqdm"
   ]
  },
  {
   "cell_type": "code",
   "execution_count": 1,
   "id": "01c11396",
   "metadata": {},
   "outputs": [
    {
     "data": {
      "text/plain": [
       "dict_keys(['client-id', 'api-key'])"
      ]
     },
     "execution_count": 1,
     "metadata": {},
     "output_type": "execute_result"
    }
   ],
   "source": [
    "import json\n",
    "with open('/Users/Aaron/.secret/yelp_api.json') as f: \n",
    "    login = json.load(f)\n",
    "login.keys()"
   ]
  },
  {
   "cell_type": "code",
   "execution_count": 5,
   "id": "be8e782a",
   "metadata": {},
   "outputs": [
    {
     "data": {
      "text/plain": [
       "<yelpapi.yelpapi.YelpAPI at 0x1b80b30c460>"
      ]
     },
     "execution_count": 5,
     "metadata": {},
     "output_type": "execute_result"
    }
   ],
   "source": [
    "from yelpapi import YelpAPI\n",
    "yelp_api = YelpAPI(login['api-key'], timeout_s=5.0)\n",
    "yelp_api"
   ]
  },
  {
   "cell_type": "code",
   "execution_count": 23,
   "id": "8483e016",
   "metadata": {},
   "outputs": [
    {
     "data": {
      "text/plain": [
       "'Data/results_in_progress_AZ_Smoked.json'"
      ]
     },
     "execution_count": 23,
     "metadata": {},
     "output_type": "execute_result"
    }
   ],
   "source": [
    "JSON_FILE = \"Data/results_in_progress_AZ_Smoked.json\"\n",
    "JSON_FILE"
   ]
  },
  {
   "cell_type": "code",
   "execution_count": 24,
   "id": "bafffd7d",
   "metadata": {},
   "outputs": [
    {
     "name": "stdout",
     "output_type": "stream",
     "text": [
      "[i] Data/results_in_progress_AZ_Smoked.json not found. Saving empty list to file.\n"
     ]
    }
   ],
   "source": [
    "file_exists = os.path.isfile(JSON_FILE)\n",
    " \n",
    "if file_exists == False:\n",
    "    \n",
    "   \n",
    "    folder = os.path.dirname(JSON_FILE)\n",
    "   \n",
    "    if len(folder)>0:\n",
    "        \n",
    "        os.makedirs(folder,exist_ok=True)\n",
    "        \n",
    "        \n",
    "    \n",
    "    print(f'[i] {JSON_FILE} not found. Saving empty list to file.')\n",
    "    \n",
    "    \n",
    "    \n",
    "    with open(JSON_FILE,'w') as f:\n",
    "        json.dump([],f)  \n",
    "\n",
    "else:\n",
    "    print(f\"[i] {JSON_FILE} already exists.\")"
   ]
  },
  {
   "cell_type": "code",
   "execution_count": 35,
   "id": "ee151112",
   "metadata": {},
   "outputs": [],
   "source": [
    "LOCATION = \"Tucson, AZ\"\n",
    "TERM = \"Smoked Wings\""
   ]
  },
  {
   "cell_type": "code",
   "execution_count": 26,
   "id": "65e7e234",
   "metadata": {},
   "outputs": [
    {
     "name": "stdout",
     "output_type": "stream",
     "text": [
      "- 0 previous results found.\n"
     ]
    }
   ],
   "source": [
    "with open(JSON_FILE,'r') as f:\n",
    "    previous_results = json.load(f)\n",
    "    \n",
    "## set offset based on previous results\n",
    "n_results = len(previous_results)\n",
    "print(f'- {n_results} previous results found.')"
   ]
  },
  {
   "cell_type": "code",
   "execution_count": 36,
   "id": "b83bef18",
   "metadata": {},
   "outputs": [
    {
     "data": {
      "text/plain": [
       "dict_keys(['businesses', 'total', 'region'])"
      ]
     },
     "execution_count": 36,
     "metadata": {},
     "output_type": "execute_result"
    }
   ],
   "source": [
    "results = yelp_api.search_query(location=LOCATION,\n",
    "                                term=TERM,\n",
    "                               offset=n_results)\n",
    "results.keys()\n"
   ]
  },
  {
   "cell_type": "code",
   "execution_count": 37,
   "id": "f8013f6c",
   "metadata": {},
   "outputs": [
    {
     "data": {
      "text/plain": [
       "176"
      ]
     },
     "execution_count": 37,
     "metadata": {},
     "output_type": "execute_result"
    }
   ],
   "source": [
    "total_results = results['total']\n",
    "total_results"
   ]
  },
  {
   "cell_type": "code",
   "execution_count": 38,
   "id": "24cd5f44",
   "metadata": {},
   "outputs": [
    {
     "data": {
      "text/plain": [
       "20"
      ]
     },
     "execution_count": 38,
     "metadata": {},
     "output_type": "execute_result"
    }
   ],
   "source": [
    "results_per_page = len(results['businesses'])\n",
    "results_per_page"
   ]
  },
  {
   "cell_type": "code",
   "execution_count": 39,
   "id": "ac4e7107",
   "metadata": {},
   "outputs": [
    {
     "data": {
      "text/plain": [
       "9"
      ]
     },
     "execution_count": 39,
     "metadata": {},
     "output_type": "execute_result"
    }
   ],
   "source": [
    "n_pages = math.ceil((results['total']-n_results)/ results_per_page)\n",
    "n_pages"
   ]
  },
  {
   "cell_type": "code",
   "execution_count": 40,
   "id": "69bd9c49",
   "metadata": {},
   "outputs": [],
   "source": [
    "previous_results.extend(results['businesses'])  \n",
    "with open(JSON_FILE,'w') as f:\n",
    "     json.dump(previous_results,f)"
   ]
  },
  {
   "cell_type": "code",
   "execution_count": 42,
   "id": "f0ecc6a9",
   "metadata": {},
   "outputs": [
    {
     "data": {
      "application/vnd.jupyter.widget-view+json": {
       "model_id": "e9be34dd277d42b4b39b8181250e72dd",
       "version_major": 2,
       "version_minor": 0
      },
      "text/plain": [
       "  0%|          | 0/9 [00:00<?, ?it/s]"
      ]
     },
     "metadata": {},
     "output_type": "display_data"
    }
   ],
   "source": [
    "for i in tqdm_notebook(range(n_pages)):\n",
    "    # adds 200 ms pause\n",
    "    time.sleep(.2) "
   ]
  },
  {
   "cell_type": "code",
   "execution_count": 43,
   "id": "cb378e3c",
   "metadata": {},
   "outputs": [
    {
     "data": {
      "application/vnd.jupyter.widget-view+json": {
       "model_id": "cbbefab5b9434c998c23c3ae3eefd601",
       "version_major": 2,
       "version_minor": 0
      },
      "text/plain": [
       "  0%|          | 0/9 [00:00<?, ?it/s]"
      ]
     },
     "metadata": {},
     "output_type": "display_data"
    }
   ],
   "source": [
    "for i in tqdm_notebook( range(1,n_pages+1)):\n",
    "    \n",
    "    ## Read in results in progress file and check the length\n",
    "    with open(JSON_FILE, 'r') as f:\n",
    "        previous_results = json.load(f)\n",
    "    ## save number of results for to use as offset\n",
    "    n_results = len(previous_results)\n",
    "    ## use n_results as the OFFSET \n",
    "    results = yelp_api.search_query(location=LOCATION,\n",
    "                                    term=TERM, \n",
    "                                    offset=n_results)\n",
    "    \n",
    "    ## append new results and save to file\n",
    "    previous_results.extend(results['businesses'])\n",
    "    \n",
    "    with open(JSON_FILE,'w') as f:\n",
    "        json.dump(previous_results,f)\n",
    "    \n",
    "    # add a 200ms pause\n",
    "    time.sleep(.2)"
   ]
  },
  {
   "cell_type": "code",
   "execution_count": 44,
   "id": "a0329455",
   "metadata": {},
   "outputs": [
    {
     "data": {
      "text/html": [
       "<div>\n",
       "<style scoped>\n",
       "    .dataframe tbody tr th:only-of-type {\n",
       "        vertical-align: middle;\n",
       "    }\n",
       "\n",
       "    .dataframe tbody tr th {\n",
       "        vertical-align: top;\n",
       "    }\n",
       "\n",
       "    .dataframe thead th {\n",
       "        text-align: right;\n",
       "    }\n",
       "</style>\n",
       "<table border=\"1\" class=\"dataframe\">\n",
       "  <thead>\n",
       "    <tr style=\"text-align: right;\">\n",
       "      <th></th>\n",
       "      <th>id</th>\n",
       "      <th>alias</th>\n",
       "      <th>name</th>\n",
       "      <th>image_url</th>\n",
       "      <th>is_closed</th>\n",
       "      <th>url</th>\n",
       "      <th>review_count</th>\n",
       "      <th>categories</th>\n",
       "      <th>rating</th>\n",
       "      <th>coordinates</th>\n",
       "      <th>transactions</th>\n",
       "      <th>price</th>\n",
       "      <th>location</th>\n",
       "      <th>phone</th>\n",
       "      <th>display_phone</th>\n",
       "      <th>distance</th>\n",
       "    </tr>\n",
       "  </thead>\n",
       "  <tbody>\n",
       "    <tr>\n",
       "      <th>0</th>\n",
       "      <td>WAInJdS3M-4JgUyzf_LoQg</td>\n",
       "      <td>smokey-mo-tucson</td>\n",
       "      <td>Smokey Mo</td>\n",
       "      <td>https://s3-media2.fl.yelpcdn.com/bphoto/L0Jd9s...</td>\n",
       "      <td>False</td>\n",
       "      <td>https://www.yelp.com/biz/smokey-mo-tucson?adju...</td>\n",
       "      <td>533</td>\n",
       "      <td>[{'alias': 'bbq', 'title': 'Barbeque'}, {'alia...</td>\n",
       "      <td>4.5</td>\n",
       "      <td>{'latitude': 32.2543430452397, 'longitude': -1...</td>\n",
       "      <td>[pickup, delivery]</td>\n",
       "      <td>$$</td>\n",
       "      <td>{'address1': '2650 N 1st Ave', 'address2': '',...</td>\n",
       "      <td>+15202038250</td>\n",
       "      <td>(520) 203-8250</td>\n",
       "      <td>2941.230821</td>\n",
       "    </tr>\n",
       "    <tr>\n",
       "      <th>1</th>\n",
       "      <td>QMo3URjgmyY_jU9GtYfxtA</td>\n",
       "      <td>kens-hardwood-barbecue-tucson</td>\n",
       "      <td>Kens Hardwood Barbecue</td>\n",
       "      <td>https://s3-media3.fl.yelpcdn.com/bphoto/39vGA7...</td>\n",
       "      <td>False</td>\n",
       "      <td>https://www.yelp.com/biz/kens-hardwood-barbecu...</td>\n",
       "      <td>259</td>\n",
       "      <td>[{'alias': 'bbq', 'title': 'Barbeque'}]</td>\n",
       "      <td>4.5</td>\n",
       "      <td>{'latitude': 32.20644, 'longitude': -110.87996}</td>\n",
       "      <td>[pickup, delivery]</td>\n",
       "      <td>$$</td>\n",
       "      <td>{'address1': '5250 E 22nd St', 'address2': '',...</td>\n",
       "      <td>+15207454746</td>\n",
       "      <td>(520) 745-4746</td>\n",
       "      <td>6497.026672</td>\n",
       "    </tr>\n",
       "    <tr>\n",
       "      <th>2</th>\n",
       "      <td>pUeuBWxgll2in2KqKeAR_A</td>\n",
       "      <td>firebirds-wood-fired-grill-tucson</td>\n",
       "      <td>Firebirds Wood Fired Grill</td>\n",
       "      <td>https://s3-media2.fl.yelpcdn.com/bphoto/hrkkpD...</td>\n",
       "      <td>False</td>\n",
       "      <td>https://www.yelp.com/biz/firebirds-wood-fired-...</td>\n",
       "      <td>503</td>\n",
       "      <td>[{'alias': 'steak', 'title': 'Steakhouses'}, {...</td>\n",
       "      <td>4.0</td>\n",
       "      <td>{'latitude': 32.3253079094931, 'longitude': -1...</td>\n",
       "      <td>[pickup, delivery]</td>\n",
       "      <td>$$</td>\n",
       "      <td>{'address1': '2985 E Skyline Dr', 'address2': ...</td>\n",
       "      <td>+15205770747</td>\n",
       "      <td>(520) 577-0747</td>\n",
       "      <td>8917.041611</td>\n",
       "    </tr>\n",
       "    <tr>\n",
       "      <th>3</th>\n",
       "      <td>UKImUPq5l6yHn_JO8DQZng</td>\n",
       "      <td>the-neighborhood-tucson</td>\n",
       "      <td>The Neighborhood</td>\n",
       "      <td>https://s3-media2.fl.yelpcdn.com/bphoto/rGI0FZ...</td>\n",
       "      <td>False</td>\n",
       "      <td>https://www.yelp.com/biz/the-neighborhood-tucs...</td>\n",
       "      <td>88</td>\n",
       "      <td>[{'alias': 'sportsbars', 'title': 'Sports Bars...</td>\n",
       "      <td>4.0</td>\n",
       "      <td>{'latitude': 32.1993942260742, 'longitude': -1...</td>\n",
       "      <td>[delivery]</td>\n",
       "      <td>$$</td>\n",
       "      <td>{'address1': '3940 E 29th St', 'address2': Non...</td>\n",
       "      <td>+15202074004</td>\n",
       "      <td>(520) 207-4004</td>\n",
       "      <td>5562.121135</td>\n",
       "    </tr>\n",
       "    <tr>\n",
       "      <th>4</th>\n",
       "      <td>G98s4QCjcSRLsr9FSJ7qWQ</td>\n",
       "      <td>the-horseshoe-grill-tucson</td>\n",
       "      <td>The Horseshoe Grill</td>\n",
       "      <td>https://s3-media2.fl.yelpcdn.com/bphoto/jPIgdI...</td>\n",
       "      <td>False</td>\n",
       "      <td>https://www.yelp.com/biz/the-horseshoe-grill-t...</td>\n",
       "      <td>390</td>\n",
       "      <td>[{'alias': 'bbq', 'title': 'Barbeque'}, {'alia...</td>\n",
       "      <td>3.5</td>\n",
       "      <td>{'latitude': 32.2225669644023, 'longitude': -1...</td>\n",
       "      <td>[pickup, delivery]</td>\n",
       "      <td>$$</td>\n",
       "      <td>{'address1': '7713 E Broadway Blvd', 'address2...</td>\n",
       "      <td>+15208380404</td>\n",
       "      <td>(520) 838-0404</td>\n",
       "      <td>10180.769032</td>\n",
       "    </tr>\n",
       "  </tbody>\n",
       "</table>\n",
       "</div>"
      ],
      "text/plain": [
       "                       id                              alias  \\\n",
       "0  WAInJdS3M-4JgUyzf_LoQg                   smokey-mo-tucson   \n",
       "1  QMo3URjgmyY_jU9GtYfxtA      kens-hardwood-barbecue-tucson   \n",
       "2  pUeuBWxgll2in2KqKeAR_A  firebirds-wood-fired-grill-tucson   \n",
       "3  UKImUPq5l6yHn_JO8DQZng            the-neighborhood-tucson   \n",
       "4  G98s4QCjcSRLsr9FSJ7qWQ         the-horseshoe-grill-tucson   \n",
       "\n",
       "                         name  \\\n",
       "0                   Smokey Mo   \n",
       "1      Kens Hardwood Barbecue   \n",
       "2  Firebirds Wood Fired Grill   \n",
       "3            The Neighborhood   \n",
       "4         The Horseshoe Grill   \n",
       "\n",
       "                                           image_url  is_closed  \\\n",
       "0  https://s3-media2.fl.yelpcdn.com/bphoto/L0Jd9s...      False   \n",
       "1  https://s3-media3.fl.yelpcdn.com/bphoto/39vGA7...      False   \n",
       "2  https://s3-media2.fl.yelpcdn.com/bphoto/hrkkpD...      False   \n",
       "3  https://s3-media2.fl.yelpcdn.com/bphoto/rGI0FZ...      False   \n",
       "4  https://s3-media2.fl.yelpcdn.com/bphoto/jPIgdI...      False   \n",
       "\n",
       "                                                 url  review_count  \\\n",
       "0  https://www.yelp.com/biz/smokey-mo-tucson?adju...           533   \n",
       "1  https://www.yelp.com/biz/kens-hardwood-barbecu...           259   \n",
       "2  https://www.yelp.com/biz/firebirds-wood-fired-...           503   \n",
       "3  https://www.yelp.com/biz/the-neighborhood-tucs...            88   \n",
       "4  https://www.yelp.com/biz/the-horseshoe-grill-t...           390   \n",
       "\n",
       "                                          categories  rating  \\\n",
       "0  [{'alias': 'bbq', 'title': 'Barbeque'}, {'alia...     4.5   \n",
       "1            [{'alias': 'bbq', 'title': 'Barbeque'}]     4.5   \n",
       "2  [{'alias': 'steak', 'title': 'Steakhouses'}, {...     4.0   \n",
       "3  [{'alias': 'sportsbars', 'title': 'Sports Bars...     4.0   \n",
       "4  [{'alias': 'bbq', 'title': 'Barbeque'}, {'alia...     3.5   \n",
       "\n",
       "                                         coordinates        transactions  \\\n",
       "0  {'latitude': 32.2543430452397, 'longitude': -1...  [pickup, delivery]   \n",
       "1    {'latitude': 32.20644, 'longitude': -110.87996}  [pickup, delivery]   \n",
       "2  {'latitude': 32.3253079094931, 'longitude': -1...  [pickup, delivery]   \n",
       "3  {'latitude': 32.1993942260742, 'longitude': -1...          [delivery]   \n",
       "4  {'latitude': 32.2225669644023, 'longitude': -1...  [pickup, delivery]   \n",
       "\n",
       "  price                                           location         phone  \\\n",
       "0    $$  {'address1': '2650 N 1st Ave', 'address2': '',...  +15202038250   \n",
       "1    $$  {'address1': '5250 E 22nd St', 'address2': '',...  +15207454746   \n",
       "2    $$  {'address1': '2985 E Skyline Dr', 'address2': ...  +15205770747   \n",
       "3    $$  {'address1': '3940 E 29th St', 'address2': Non...  +15202074004   \n",
       "4    $$  {'address1': '7713 E Broadway Blvd', 'address2...  +15208380404   \n",
       "\n",
       "    display_phone      distance  \n",
       "0  (520) 203-8250   2941.230821  \n",
       "1  (520) 745-4746   6497.026672  \n",
       "2  (520) 577-0747   8917.041611  \n",
       "3  (520) 207-4004   5562.121135  \n",
       "4  (520) 838-0404  10180.769032  "
      ]
     },
     "metadata": {},
     "output_type": "display_data"
    },
    {
     "data": {
      "text/html": [
       "<div>\n",
       "<style scoped>\n",
       "    .dataframe tbody tr th:only-of-type {\n",
       "        vertical-align: middle;\n",
       "    }\n",
       "\n",
       "    .dataframe tbody tr th {\n",
       "        vertical-align: top;\n",
       "    }\n",
       "\n",
       "    .dataframe thead th {\n",
       "        text-align: right;\n",
       "    }\n",
       "</style>\n",
       "<table border=\"1\" class=\"dataframe\">\n",
       "  <thead>\n",
       "    <tr style=\"text-align: right;\">\n",
       "      <th></th>\n",
       "      <th>id</th>\n",
       "      <th>alias</th>\n",
       "      <th>name</th>\n",
       "      <th>image_url</th>\n",
       "      <th>is_closed</th>\n",
       "      <th>url</th>\n",
       "      <th>review_count</th>\n",
       "      <th>categories</th>\n",
       "      <th>rating</th>\n",
       "      <th>coordinates</th>\n",
       "      <th>transactions</th>\n",
       "      <th>price</th>\n",
       "      <th>location</th>\n",
       "      <th>phone</th>\n",
       "      <th>display_phone</th>\n",
       "      <th>distance</th>\n",
       "    </tr>\n",
       "  </thead>\n",
       "  <tbody>\n",
       "    <tr>\n",
       "      <th>171</th>\n",
       "      <td>UnIxj6MCluR-aMuGiree8w</td>\n",
       "      <td>dennys-tucson-7</td>\n",
       "      <td>Denny's</td>\n",
       "      <td>https://s3-media1.fl.yelpcdn.com/bphoto/Pf8T_Z...</td>\n",
       "      <td>False</td>\n",
       "      <td>https://www.yelp.com/biz/dennys-tucson-7?adjus...</td>\n",
       "      <td>58</td>\n",
       "      <td>[{'alias': 'breakfast_brunch', 'title': 'Break...</td>\n",
       "      <td>3.0</td>\n",
       "      <td>{'latitude': 32.1336674392254, 'longitude': -1...</td>\n",
       "      <td>[delivery, pickup]</td>\n",
       "      <td>$</td>\n",
       "      <td>{'address1': '2630 E Valencia Rd', 'address2':...</td>\n",
       "      <td>+15202946131</td>\n",
       "      <td>(520) 294-6131</td>\n",
       "      <td>12398.075029</td>\n",
       "    </tr>\n",
       "    <tr>\n",
       "      <th>172</th>\n",
       "      <td>qaWM4T1eQoUMSRJ2AL2U1w</td>\n",
       "      <td>red-lobster-oro-valley</td>\n",
       "      <td>Red Lobster</td>\n",
       "      <td>https://s3-media1.fl.yelpcdn.com/bphoto/TbcyR9...</td>\n",
       "      <td>False</td>\n",
       "      <td>https://www.yelp.com/biz/red-lobster-oro-valle...</td>\n",
       "      <td>70</td>\n",
       "      <td>[{'alias': 'seafood', 'title': 'Seafood'}, {'a...</td>\n",
       "      <td>3.0</td>\n",
       "      <td>{'latitude': 32.418604, 'longitude': -110.938204}</td>\n",
       "      <td>[delivery, pickup]</td>\n",
       "      <td>$$</td>\n",
       "      <td>{'address1': '11695 N Oracle Rd', 'address2': ...</td>\n",
       "      <td>+15205447887</td>\n",
       "      <td>(520) 544-7887</td>\n",
       "      <td>19295.577164</td>\n",
       "    </tr>\n",
       "    <tr>\n",
       "      <th>173</th>\n",
       "      <td>X0tlzqEITaegYt10WJkSFA</td>\n",
       "      <td>dennys-oro-valley</td>\n",
       "      <td>Denny's</td>\n",
       "      <td>https://s3-media2.fl.yelpcdn.com/bphoto/M2YWwC...</td>\n",
       "      <td>False</td>\n",
       "      <td>https://www.yelp.com/biz/dennys-oro-valley?adj...</td>\n",
       "      <td>24</td>\n",
       "      <td>[{'alias': 'diners', 'title': 'Diners'}, {'ali...</td>\n",
       "      <td>3.0</td>\n",
       "      <td>{'latitude': 32.407913, 'longitude': -110.945451}</td>\n",
       "      <td>[delivery, pickup]</td>\n",
       "      <td>$$</td>\n",
       "      <td>{'address1': '11107 N Oracle Rd', 'address2': ...</td>\n",
       "      <td>+15202690696</td>\n",
       "      <td>(520) 269-0696</td>\n",
       "      <td>18143.173646</td>\n",
       "    </tr>\n",
       "    <tr>\n",
       "      <th>174</th>\n",
       "      <td>UILorKaBGq7u_K6wUZKYnA</td>\n",
       "      <td>dennys-tucson-5</td>\n",
       "      <td>Denny's</td>\n",
       "      <td>https://s3-media1.fl.yelpcdn.com/bphoto/u3HNYS...</td>\n",
       "      <td>False</td>\n",
       "      <td>https://www.yelp.com/biz/dennys-tucson-5?adjus...</td>\n",
       "      <td>54</td>\n",
       "      <td>[{'alias': 'tradamerican', 'title': 'American ...</td>\n",
       "      <td>2.5</td>\n",
       "      <td>{'latitude': 32.33806085248846, 'longitude': -...</td>\n",
       "      <td>[delivery, pickup]</td>\n",
       "      <td>$</td>\n",
       "      <td>{'address1': '4920 W Ina Rd', 'address2': '', ...</td>\n",
       "      <td>+15207446805</td>\n",
       "      <td>(520) 744-6805</td>\n",
       "      <td>16578.657596</td>\n",
       "    </tr>\n",
       "    <tr>\n",
       "      <th>175</th>\n",
       "      <td>Wcf04Kz9HGlOKazulJ2Jcg</td>\n",
       "      <td>ihop-tucson-9</td>\n",
       "      <td>IHOP</td>\n",
       "      <td>https://s3-media3.fl.yelpcdn.com/bphoto/SS2Zl7...</td>\n",
       "      <td>False</td>\n",
       "      <td>https://www.yelp.com/biz/ihop-tucson-9?adjust_...</td>\n",
       "      <td>100</td>\n",
       "      <td>[{'alias': 'tradamerican', 'title': 'American ...</td>\n",
       "      <td>2.5</td>\n",
       "      <td>{'latitude': 32.35982, 'longitude': -111.08498}</td>\n",
       "      <td>[delivery, pickup]</td>\n",
       "      <td>$$</td>\n",
       "      <td>{'address1': '8445 N Cerius StrAve', 'address2...</td>\n",
       "      <td>+15207441316</td>\n",
       "      <td>(520) 744-1316</td>\n",
       "      <td>19237.507593</td>\n",
       "    </tr>\n",
       "  </tbody>\n",
       "</table>\n",
       "</div>"
      ],
      "text/plain": [
       "                         id                   alias         name  \\\n",
       "171  UnIxj6MCluR-aMuGiree8w         dennys-tucson-7      Denny's   \n",
       "172  qaWM4T1eQoUMSRJ2AL2U1w  red-lobster-oro-valley  Red Lobster   \n",
       "173  X0tlzqEITaegYt10WJkSFA       dennys-oro-valley      Denny's   \n",
       "174  UILorKaBGq7u_K6wUZKYnA         dennys-tucson-5      Denny's   \n",
       "175  Wcf04Kz9HGlOKazulJ2Jcg           ihop-tucson-9         IHOP   \n",
       "\n",
       "                                             image_url  is_closed  \\\n",
       "171  https://s3-media1.fl.yelpcdn.com/bphoto/Pf8T_Z...      False   \n",
       "172  https://s3-media1.fl.yelpcdn.com/bphoto/TbcyR9...      False   \n",
       "173  https://s3-media2.fl.yelpcdn.com/bphoto/M2YWwC...      False   \n",
       "174  https://s3-media1.fl.yelpcdn.com/bphoto/u3HNYS...      False   \n",
       "175  https://s3-media3.fl.yelpcdn.com/bphoto/SS2Zl7...      False   \n",
       "\n",
       "                                                   url  review_count  \\\n",
       "171  https://www.yelp.com/biz/dennys-tucson-7?adjus...            58   \n",
       "172  https://www.yelp.com/biz/red-lobster-oro-valle...            70   \n",
       "173  https://www.yelp.com/biz/dennys-oro-valley?adj...            24   \n",
       "174  https://www.yelp.com/biz/dennys-tucson-5?adjus...            54   \n",
       "175  https://www.yelp.com/biz/ihop-tucson-9?adjust_...           100   \n",
       "\n",
       "                                            categories  rating  \\\n",
       "171  [{'alias': 'breakfast_brunch', 'title': 'Break...     3.0   \n",
       "172  [{'alias': 'seafood', 'title': 'Seafood'}, {'a...     3.0   \n",
       "173  [{'alias': 'diners', 'title': 'Diners'}, {'ali...     3.0   \n",
       "174  [{'alias': 'tradamerican', 'title': 'American ...     2.5   \n",
       "175  [{'alias': 'tradamerican', 'title': 'American ...     2.5   \n",
       "\n",
       "                                           coordinates        transactions  \\\n",
       "171  {'latitude': 32.1336674392254, 'longitude': -1...  [delivery, pickup]   \n",
       "172  {'latitude': 32.418604, 'longitude': -110.938204}  [delivery, pickup]   \n",
       "173  {'latitude': 32.407913, 'longitude': -110.945451}  [delivery, pickup]   \n",
       "174  {'latitude': 32.33806085248846, 'longitude': -...  [delivery, pickup]   \n",
       "175    {'latitude': 32.35982, 'longitude': -111.08498}  [delivery, pickup]   \n",
       "\n",
       "    price                                           location         phone  \\\n",
       "171     $  {'address1': '2630 E Valencia Rd', 'address2':...  +15202946131   \n",
       "172    $$  {'address1': '11695 N Oracle Rd', 'address2': ...  +15205447887   \n",
       "173    $$  {'address1': '11107 N Oracle Rd', 'address2': ...  +15202690696   \n",
       "174     $  {'address1': '4920 W Ina Rd', 'address2': '', ...  +15207446805   \n",
       "175    $$  {'address1': '8445 N Cerius StrAve', 'address2...  +15207441316   \n",
       "\n",
       "      display_phone      distance  \n",
       "171  (520) 294-6131  12398.075029  \n",
       "172  (520) 544-7887  19295.577164  \n",
       "173  (520) 269-0696  18143.173646  \n",
       "174  (520) 744-6805  16578.657596  \n",
       "175  (520) 744-1316  19237.507593  "
      ]
     },
     "metadata": {},
     "output_type": "display_data"
    }
   ],
   "source": [
    "final_df = pd.read_json(JSON_FILE)\n",
    "display(final_df.head(), final_df.tail())"
   ]
  },
  {
   "cell_type": "code",
   "execution_count": 46,
   "id": "21265c63",
   "metadata": {},
   "outputs": [
    {
     "data": {
      "text/plain": [
       "0"
      ]
     },
     "execution_count": 46,
     "metadata": {},
     "output_type": "execute_result"
    }
   ],
   "source": [
    "final_df.duplicated(subset='id').sum()"
   ]
  },
  {
   "cell_type": "code",
   "execution_count": 47,
   "id": "cb582b94",
   "metadata": {},
   "outputs": [],
   "source": [
    "final_df.to_csv('Data/final_results_AZ_Smoked.csv.gz', compression='gzip',index=False)"
   ]
  }
 ],
 "metadata": {
  "kernelspec": {
   "display_name": "Python 3.8.13 64-bit ('dojo-env')",
   "language": "python",
   "name": "python3"
  },
  "language_info": {
   "codemirror_mode": {
    "name": "ipython",
    "version": 3
   },
   "file_extension": ".py",
   "mimetype": "text/x-python",
   "name": "python",
   "nbconvert_exporter": "python",
   "pygments_lexer": "ipython3",
   "version": "3.8.13"
  },
  "vscode": {
   "interpreter": {
    "hash": "a6966a2fb173d78b5e1763dcff85de6dc99505efd80587dd8d23ea1f502ec468"
   }
  }
 },
 "nbformat": 4,
 "nbformat_minor": 5
}
